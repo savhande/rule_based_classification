{
 "cells": [
  {
   "cell_type": "markdown",
   "id": "c5be5a80",
   "metadata": {
    "papermill": {
     "duration": 0.010724,
     "end_time": "2024-07-24T08:38:52.328978",
     "exception": false,
     "start_time": "2024-07-24T08:38:52.318254",
     "status": "completed"
    },
    "tags": []
   },
   "source": [
    "Soru 1: persona.csv dosyasını okutunuz ve veri seti ile ilgili genel bilgileri gösteriniz."
   ]
  },
  {
   "cell_type": "code",
   "execution_count": 1,
   "id": "477dae75",
   "metadata": {
    "execution": {
     "iopub.execute_input": "2024-07-24T08:38:52.352603Z",
     "iopub.status.busy": "2024-07-24T08:38:52.351500Z",
     "iopub.status.idle": "2024-07-24T08:38:53.363620Z",
     "shell.execute_reply": "2024-07-24T08:38:53.362595Z"
    },
    "papermill": {
     "duration": 1.026432,
     "end_time": "2024-07-24T08:38:53.366305",
     "exception": false,
     "start_time": "2024-07-24T08:38:52.339873",
     "status": "completed"
    },
    "tags": []
   },
   "outputs": [
    {
     "data": {
      "text/html": [
       "<div>\n",
       "<style scoped>\n",
       "    .dataframe tbody tr th:only-of-type {\n",
       "        vertical-align: middle;\n",
       "    }\n",
       "\n",
       "    .dataframe tbody tr th {\n",
       "        vertical-align: top;\n",
       "    }\n",
       "\n",
       "    .dataframe thead th {\n",
       "        text-align: right;\n",
       "    }\n",
       "</style>\n",
       "<table border=\"1\" class=\"dataframe\">\n",
       "  <thead>\n",
       "    <tr style=\"text-align: right;\">\n",
       "      <th></th>\n",
       "      <th>PRICE</th>\n",
       "      <th>SOURCE</th>\n",
       "      <th>SEX</th>\n",
       "      <th>COUNTRY</th>\n",
       "      <th>AGE</th>\n",
       "    </tr>\n",
       "  </thead>\n",
       "  <tbody>\n",
       "    <tr>\n",
       "      <th>0</th>\n",
       "      <td>39</td>\n",
       "      <td>android</td>\n",
       "      <td>male</td>\n",
       "      <td>bra</td>\n",
       "      <td>17</td>\n",
       "    </tr>\n",
       "    <tr>\n",
       "      <th>1</th>\n",
       "      <td>39</td>\n",
       "      <td>android</td>\n",
       "      <td>male</td>\n",
       "      <td>bra</td>\n",
       "      <td>17</td>\n",
       "    </tr>\n",
       "    <tr>\n",
       "      <th>2</th>\n",
       "      <td>49</td>\n",
       "      <td>android</td>\n",
       "      <td>male</td>\n",
       "      <td>bra</td>\n",
       "      <td>17</td>\n",
       "    </tr>\n",
       "    <tr>\n",
       "      <th>3</th>\n",
       "      <td>29</td>\n",
       "      <td>android</td>\n",
       "      <td>male</td>\n",
       "      <td>tur</td>\n",
       "      <td>17</td>\n",
       "    </tr>\n",
       "    <tr>\n",
       "      <th>4</th>\n",
       "      <td>49</td>\n",
       "      <td>android</td>\n",
       "      <td>male</td>\n",
       "      <td>tur</td>\n",
       "      <td>17</td>\n",
       "    </tr>\n",
       "  </tbody>\n",
       "</table>\n",
       "</div>"
      ],
      "text/plain": [
       "   PRICE   SOURCE   SEX COUNTRY  AGE\n",
       "0     39  android  male     bra   17\n",
       "1     39  android  male     bra   17\n",
       "2     49  android  male     bra   17\n",
       "3     29  android  male     tur   17\n",
       "4     49  android  male     tur   17"
      ]
     },
     "execution_count": 1,
     "metadata": {},
     "output_type": "execute_result"
    }
   ],
   "source": [
    "import pandas as pd\n",
    "df = pd.read_csv(\"/kaggle/input/persona/persona.csv\")\n",
    "df.head()"
   ]
  },
  {
   "cell_type": "markdown",
   "id": "0ad1fb68",
   "metadata": {
    "papermill": {
     "duration": 0.010106,
     "end_time": "2024-07-24T08:38:53.386850",
     "exception": false,
     "start_time": "2024-07-24T08:38:53.376744",
     "status": "completed"
    },
    "tags": []
   },
   "source": [
    "Soru 2: Kaç unique SOURCE vardır? Frekansları nedir?"
   ]
  },
  {
   "cell_type": "code",
   "execution_count": 2,
   "id": "5220d5ac",
   "metadata": {
    "execution": {
     "iopub.execute_input": "2024-07-24T08:38:53.409612Z",
     "iopub.status.busy": "2024-07-24T08:38:53.409244Z",
     "iopub.status.idle": "2024-07-24T08:38:53.426664Z",
     "shell.execute_reply": "2024-07-24T08:38:53.425460Z"
    },
    "papermill": {
     "duration": 0.031742,
     "end_time": "2024-07-24T08:38:53.429214",
     "exception": false,
     "start_time": "2024-07-24T08:38:53.397472",
     "status": "completed"
    },
    "tags": []
   },
   "outputs": [
    {
     "data": {
      "text/plain": [
       "SOURCE\n",
       "android    2974\n",
       "ios        2026\n",
       "Name: count, dtype: int64"
      ]
     },
     "execution_count": 2,
     "metadata": {},
     "output_type": "execute_result"
    }
   ],
   "source": [
    "df[\"SOURCE\"].nunique()\n",
    "df[\"SOURCE\"].value_counts()"
   ]
  },
  {
   "cell_type": "markdown",
   "id": "3312c123",
   "metadata": {
    "papermill": {
     "duration": 0.010414,
     "end_time": "2024-07-24T08:38:53.450217",
     "exception": false,
     "start_time": "2024-07-24T08:38:53.439803",
     "status": "completed"
    },
    "tags": []
   },
   "source": [
    "Soru 3: Kaç unique PRICE vardır?"
   ]
  },
  {
   "cell_type": "code",
   "execution_count": 3,
   "id": "6143b8e6",
   "metadata": {
    "execution": {
     "iopub.execute_input": "2024-07-24T08:38:53.473189Z",
     "iopub.status.busy": "2024-07-24T08:38:53.472803Z",
     "iopub.status.idle": "2024-07-24T08:38:53.482864Z",
     "shell.execute_reply": "2024-07-24T08:38:53.481660Z"
    },
    "papermill": {
     "duration": 0.024541,
     "end_time": "2024-07-24T08:38:53.485382",
     "exception": false,
     "start_time": "2024-07-24T08:38:53.460841",
     "status": "completed"
    },
    "tags": []
   },
   "outputs": [
    {
     "data": {
      "text/plain": [
       "6"
      ]
     },
     "execution_count": 3,
     "metadata": {},
     "output_type": "execute_result"
    }
   ],
   "source": [
    "df[\"PRICE\"].nunique()"
   ]
  },
  {
   "cell_type": "markdown",
   "id": "86eff261",
   "metadata": {
    "papermill": {
     "duration": 0.010326,
     "end_time": "2024-07-24T08:38:53.506357",
     "exception": false,
     "start_time": "2024-07-24T08:38:53.496031",
     "status": "completed"
    },
    "tags": []
   },
   "source": [
    "Soru 4: Hangi PRICE'dan kaçar tane satış gerçekleşmiş?"
   ]
  },
  {
   "cell_type": "code",
   "execution_count": 4,
   "id": "e8659927",
   "metadata": {
    "execution": {
     "iopub.execute_input": "2024-07-24T08:38:53.530469Z",
     "iopub.status.busy": "2024-07-24T08:38:53.530099Z",
     "iopub.status.idle": "2024-07-24T08:38:53.540609Z",
     "shell.execute_reply": "2024-07-24T08:38:53.539484Z"
    },
    "papermill": {
     "duration": 0.026184,
     "end_time": "2024-07-24T08:38:53.543192",
     "exception": false,
     "start_time": "2024-07-24T08:38:53.517008",
     "status": "completed"
    },
    "tags": []
   },
   "outputs": [
    {
     "data": {
      "text/plain": [
       "PRICE\n",
       "29    1305\n",
       "39    1260\n",
       "49    1031\n",
       "19     992\n",
       "59     212\n",
       "9      200\n",
       "Name: count, dtype: int64"
      ]
     },
     "execution_count": 4,
     "metadata": {},
     "output_type": "execute_result"
    }
   ],
   "source": [
    "df[\"PRICE\"].value_counts()"
   ]
  },
  {
   "cell_type": "markdown",
   "id": "de49755d",
   "metadata": {
    "papermill": {
     "duration": 0.010755,
     "end_time": "2024-07-24T08:38:53.564917",
     "exception": false,
     "start_time": "2024-07-24T08:38:53.554162",
     "status": "completed"
    },
    "tags": []
   },
   "source": [
    "Soru 5: Hangi ülkeden kaçar tane satış olmuş?"
   ]
  },
  {
   "cell_type": "code",
   "execution_count": 5,
   "id": "cf04c047",
   "metadata": {
    "execution": {
     "iopub.execute_input": "2024-07-24T08:38:53.589240Z",
     "iopub.status.busy": "2024-07-24T08:38:53.588816Z",
     "iopub.status.idle": "2024-07-24T08:38:53.599422Z",
     "shell.execute_reply": "2024-07-24T08:38:53.598328Z"
    },
    "papermill": {
     "duration": 0.02561,
     "end_time": "2024-07-24T08:38:53.601933",
     "exception": false,
     "start_time": "2024-07-24T08:38:53.576323",
     "status": "completed"
    },
    "tags": []
   },
   "outputs": [
    {
     "data": {
      "text/plain": [
       "COUNTRY\n",
       "usa    2065\n",
       "bra    1496\n",
       "deu     455\n",
       "tur     451\n",
       "fra     303\n",
       "can     230\n",
       "Name: count, dtype: int64"
      ]
     },
     "execution_count": 5,
     "metadata": {},
     "output_type": "execute_result"
    }
   ],
   "source": [
    "df[\"COUNTRY\"].value_counts()"
   ]
  },
  {
   "cell_type": "markdown",
   "id": "bbdc029b",
   "metadata": {
    "papermill": {
     "duration": 0.010993,
     "end_time": "2024-07-24T08:38:53.624010",
     "exception": false,
     "start_time": "2024-07-24T08:38:53.613017",
     "status": "completed"
    },
    "tags": []
   },
   "source": [
    "Soru 6: Ülkelere göre satışlardan toplam ne kadar kazanılmış?"
   ]
  },
  {
   "cell_type": "code",
   "execution_count": 6,
   "id": "84bd045a",
   "metadata": {
    "execution": {
     "iopub.execute_input": "2024-07-24T08:38:53.648905Z",
     "iopub.status.busy": "2024-07-24T08:38:53.648476Z",
     "iopub.status.idle": "2024-07-24T08:38:53.670435Z",
     "shell.execute_reply": "2024-07-24T08:38:53.669302Z"
    },
    "papermill": {
     "duration": 0.038111,
     "end_time": "2024-07-24T08:38:53.673188",
     "exception": false,
     "start_time": "2024-07-24T08:38:53.635077",
     "status": "completed"
    },
    "tags": []
   },
   "outputs": [
    {
     "data": {
      "text/html": [
       "<div>\n",
       "<style scoped>\n",
       "    .dataframe tbody tr th:only-of-type {\n",
       "        vertical-align: middle;\n",
       "    }\n",
       "\n",
       "    .dataframe tbody tr th {\n",
       "        vertical-align: top;\n",
       "    }\n",
       "\n",
       "    .dataframe thead th {\n",
       "        text-align: right;\n",
       "    }\n",
       "</style>\n",
       "<table border=\"1\" class=\"dataframe\">\n",
       "  <thead>\n",
       "    <tr style=\"text-align: right;\">\n",
       "      <th></th>\n",
       "      <th>PRICE</th>\n",
       "    </tr>\n",
       "    <tr>\n",
       "      <th>COUNTRY</th>\n",
       "      <th></th>\n",
       "    </tr>\n",
       "  </thead>\n",
       "  <tbody>\n",
       "    <tr>\n",
       "      <th>bra</th>\n",
       "      <td>51354</td>\n",
       "    </tr>\n",
       "    <tr>\n",
       "      <th>can</th>\n",
       "      <td>7730</td>\n",
       "    </tr>\n",
       "    <tr>\n",
       "      <th>deu</th>\n",
       "      <td>15485</td>\n",
       "    </tr>\n",
       "    <tr>\n",
       "      <th>fra</th>\n",
       "      <td>10177</td>\n",
       "    </tr>\n",
       "    <tr>\n",
       "      <th>tur</th>\n",
       "      <td>15689</td>\n",
       "    </tr>\n",
       "    <tr>\n",
       "      <th>usa</th>\n",
       "      <td>70225</td>\n",
       "    </tr>\n",
       "  </tbody>\n",
       "</table>\n",
       "</div>"
      ],
      "text/plain": [
       "         PRICE\n",
       "COUNTRY       \n",
       "bra      51354\n",
       "can       7730\n",
       "deu      15485\n",
       "fra      10177\n",
       "tur      15689\n",
       "usa      70225"
      ]
     },
     "execution_count": 6,
     "metadata": {},
     "output_type": "execute_result"
    }
   ],
   "source": [
    "df.groupby(\"COUNTRY\").agg({\"PRICE\" : \"sum\"})"
   ]
  },
  {
   "cell_type": "markdown",
   "id": "8297bff4",
   "metadata": {
    "papermill": {
     "duration": 0.011031,
     "end_time": "2024-07-24T08:38:53.695502",
     "exception": false,
     "start_time": "2024-07-24T08:38:53.684471",
     "status": "completed"
    },
    "tags": []
   },
   "source": [
    "Soru 7: SOURCE türlerine göre satış sayıları nedir?"
   ]
  },
  {
   "cell_type": "code",
   "execution_count": 7,
   "id": "16b32527",
   "metadata": {
    "execution": {
     "iopub.execute_input": "2024-07-24T08:38:53.720034Z",
     "iopub.status.busy": "2024-07-24T08:38:53.719625Z",
     "iopub.status.idle": "2024-07-24T08:38:53.729362Z",
     "shell.execute_reply": "2024-07-24T08:38:53.728318Z"
    },
    "papermill": {
     "duration": 0.02502,
     "end_time": "2024-07-24T08:38:53.731864",
     "exception": false,
     "start_time": "2024-07-24T08:38:53.706844",
     "status": "completed"
    },
    "tags": []
   },
   "outputs": [
    {
     "data": {
      "text/plain": [
       "SOURCE\n",
       "android    2974\n",
       "ios        2026\n",
       "Name: count, dtype: int64"
      ]
     },
     "execution_count": 7,
     "metadata": {},
     "output_type": "execute_result"
    }
   ],
   "source": [
    "df[\"SOURCE\"].value_counts()"
   ]
  },
  {
   "cell_type": "markdown",
   "id": "964c95b4",
   "metadata": {
    "papermill": {
     "duration": 0.011177,
     "end_time": "2024-07-24T08:38:53.754442",
     "exception": false,
     "start_time": "2024-07-24T08:38:53.743265",
     "status": "completed"
    },
    "tags": []
   },
   "source": [
    "Soru 8: Ülkelere göre PRICE ortalamaları nedir?"
   ]
  },
  {
   "cell_type": "code",
   "execution_count": 8,
   "id": "4d05f5b4",
   "metadata": {
    "execution": {
     "iopub.execute_input": "2024-07-24T08:38:53.781437Z",
     "iopub.status.busy": "2024-07-24T08:38:53.780532Z",
     "iopub.status.idle": "2024-07-24T08:38:53.798464Z",
     "shell.execute_reply": "2024-07-24T08:38:53.797283Z"
    },
    "papermill": {
     "duration": 0.034398,
     "end_time": "2024-07-24T08:38:53.801334",
     "exception": false,
     "start_time": "2024-07-24T08:38:53.766936",
     "status": "completed"
    },
    "tags": []
   },
   "outputs": [
    {
     "data": {
      "text/html": [
       "<div>\n",
       "<style scoped>\n",
       "    .dataframe tbody tr th:only-of-type {\n",
       "        vertical-align: middle;\n",
       "    }\n",
       "\n",
       "    .dataframe tbody tr th {\n",
       "        vertical-align: top;\n",
       "    }\n",
       "\n",
       "    .dataframe thead th {\n",
       "        text-align: right;\n",
       "    }\n",
       "</style>\n",
       "<table border=\"1\" class=\"dataframe\">\n",
       "  <thead>\n",
       "    <tr style=\"text-align: right;\">\n",
       "      <th></th>\n",
       "      <th>PRICE</th>\n",
       "    </tr>\n",
       "    <tr>\n",
       "      <th>COUNTRY</th>\n",
       "      <th></th>\n",
       "    </tr>\n",
       "  </thead>\n",
       "  <tbody>\n",
       "    <tr>\n",
       "      <th>bra</th>\n",
       "      <td>34.327540</td>\n",
       "    </tr>\n",
       "    <tr>\n",
       "      <th>can</th>\n",
       "      <td>33.608696</td>\n",
       "    </tr>\n",
       "    <tr>\n",
       "      <th>deu</th>\n",
       "      <td>34.032967</td>\n",
       "    </tr>\n",
       "    <tr>\n",
       "      <th>fra</th>\n",
       "      <td>33.587459</td>\n",
       "    </tr>\n",
       "    <tr>\n",
       "      <th>tur</th>\n",
       "      <td>34.787140</td>\n",
       "    </tr>\n",
       "    <tr>\n",
       "      <th>usa</th>\n",
       "      <td>34.007264</td>\n",
       "    </tr>\n",
       "  </tbody>\n",
       "</table>\n",
       "</div>"
      ],
      "text/plain": [
       "             PRICE\n",
       "COUNTRY           \n",
       "bra      34.327540\n",
       "can      33.608696\n",
       "deu      34.032967\n",
       "fra      33.587459\n",
       "tur      34.787140\n",
       "usa      34.007264"
      ]
     },
     "execution_count": 8,
     "metadata": {},
     "output_type": "execute_result"
    }
   ],
   "source": [
    "df.groupby(\"COUNTRY\").agg({\"PRICE\" : \"mean\"})"
   ]
  },
  {
   "cell_type": "markdown",
   "id": "945d2a09",
   "metadata": {
    "papermill": {
     "duration": 0.011434,
     "end_time": "2024-07-24T08:38:53.824613",
     "exception": false,
     "start_time": "2024-07-24T08:38:53.813179",
     "status": "completed"
    },
    "tags": []
   },
   "source": [
    "Soru 9: SOURCE'lara göre PRICE ortalamaları nedir?"
   ]
  },
  {
   "cell_type": "code",
   "execution_count": 9,
   "id": "41644dc7",
   "metadata": {
    "execution": {
     "iopub.execute_input": "2024-07-24T08:38:53.849871Z",
     "iopub.status.busy": "2024-07-24T08:38:53.849115Z",
     "iopub.status.idle": "2024-07-24T08:38:53.862449Z",
     "shell.execute_reply": "2024-07-24T08:38:53.861388Z"
    },
    "papermill": {
     "duration": 0.028788,
     "end_time": "2024-07-24T08:38:53.865030",
     "exception": false,
     "start_time": "2024-07-24T08:38:53.836242",
     "status": "completed"
    },
    "tags": []
   },
   "outputs": [
    {
     "data": {
      "text/html": [
       "<div>\n",
       "<style scoped>\n",
       "    .dataframe tbody tr th:only-of-type {\n",
       "        vertical-align: middle;\n",
       "    }\n",
       "\n",
       "    .dataframe tbody tr th {\n",
       "        vertical-align: top;\n",
       "    }\n",
       "\n",
       "    .dataframe thead th {\n",
       "        text-align: right;\n",
       "    }\n",
       "</style>\n",
       "<table border=\"1\" class=\"dataframe\">\n",
       "  <thead>\n",
       "    <tr style=\"text-align: right;\">\n",
       "      <th></th>\n",
       "      <th>PRICE</th>\n",
       "    </tr>\n",
       "    <tr>\n",
       "      <th>SOURCE</th>\n",
       "      <th></th>\n",
       "    </tr>\n",
       "  </thead>\n",
       "  <tbody>\n",
       "    <tr>\n",
       "      <th>android</th>\n",
       "      <td>34.174849</td>\n",
       "    </tr>\n",
       "    <tr>\n",
       "      <th>ios</th>\n",
       "      <td>34.069102</td>\n",
       "    </tr>\n",
       "  </tbody>\n",
       "</table>\n",
       "</div>"
      ],
      "text/plain": [
       "             PRICE\n",
       "SOURCE            \n",
       "android  34.174849\n",
       "ios      34.069102"
      ]
     },
     "execution_count": 9,
     "metadata": {},
     "output_type": "execute_result"
    }
   ],
   "source": [
    "df.groupby(\"SOURCE\").agg({\"PRICE\" : \"mean\"})"
   ]
  },
  {
   "cell_type": "markdown",
   "id": "e79239b6",
   "metadata": {
    "papermill": {
     "duration": 0.01159,
     "end_time": "2024-07-24T08:38:53.888530",
     "exception": false,
     "start_time": "2024-07-24T08:38:53.876940",
     "status": "completed"
    },
    "tags": []
   },
   "source": [
    "Soru 10: COUNTRY-SOURCE kırılımında PRICE ortalamaları nedir?"
   ]
  },
  {
   "cell_type": "code",
   "execution_count": 10,
   "id": "91e42e9f",
   "metadata": {
    "execution": {
     "iopub.execute_input": "2024-07-24T08:38:53.914605Z",
     "iopub.status.busy": "2024-07-24T08:38:53.913760Z",
     "iopub.status.idle": "2024-07-24T08:38:53.932415Z",
     "shell.execute_reply": "2024-07-24T08:38:53.931189Z"
    },
    "papermill": {
     "duration": 0.034778,
     "end_time": "2024-07-24T08:38:53.935237",
     "exception": false,
     "start_time": "2024-07-24T08:38:53.900459",
     "status": "completed"
    },
    "tags": []
   },
   "outputs": [
    {
     "data": {
      "text/html": [
       "<div>\n",
       "<style scoped>\n",
       "    .dataframe tbody tr th:only-of-type {\n",
       "        vertical-align: middle;\n",
       "    }\n",
       "\n",
       "    .dataframe tbody tr th {\n",
       "        vertical-align: top;\n",
       "    }\n",
       "\n",
       "    .dataframe thead th {\n",
       "        text-align: right;\n",
       "    }\n",
       "</style>\n",
       "<table border=\"1\" class=\"dataframe\">\n",
       "  <thead>\n",
       "    <tr style=\"text-align: right;\">\n",
       "      <th></th>\n",
       "      <th></th>\n",
       "      <th>PRICE</th>\n",
       "    </tr>\n",
       "    <tr>\n",
       "      <th>COUNTRY</th>\n",
       "      <th>SOURCE</th>\n",
       "      <th></th>\n",
       "    </tr>\n",
       "  </thead>\n",
       "  <tbody>\n",
       "    <tr>\n",
       "      <th rowspan=\"2\" valign=\"top\">bra</th>\n",
       "      <th>android</th>\n",
       "      <td>34.387029</td>\n",
       "    </tr>\n",
       "    <tr>\n",
       "      <th>ios</th>\n",
       "      <td>34.222222</td>\n",
       "    </tr>\n",
       "    <tr>\n",
       "      <th rowspan=\"2\" valign=\"top\">can</th>\n",
       "      <th>android</th>\n",
       "      <td>33.330709</td>\n",
       "    </tr>\n",
       "    <tr>\n",
       "      <th>ios</th>\n",
       "      <td>33.951456</td>\n",
       "    </tr>\n",
       "    <tr>\n",
       "      <th rowspan=\"2\" valign=\"top\">deu</th>\n",
       "      <th>android</th>\n",
       "      <td>33.869888</td>\n",
       "    </tr>\n",
       "    <tr>\n",
       "      <th>ios</th>\n",
       "      <td>34.268817</td>\n",
       "    </tr>\n",
       "    <tr>\n",
       "      <th rowspan=\"2\" valign=\"top\">fra</th>\n",
       "      <th>android</th>\n",
       "      <td>34.312500</td>\n",
       "    </tr>\n",
       "    <tr>\n",
       "      <th>ios</th>\n",
       "      <td>32.776224</td>\n",
       "    </tr>\n",
       "    <tr>\n",
       "      <th rowspan=\"2\" valign=\"top\">tur</th>\n",
       "      <th>android</th>\n",
       "      <td>36.229437</td>\n",
       "    </tr>\n",
       "    <tr>\n",
       "      <th>ios</th>\n",
       "      <td>33.272727</td>\n",
       "    </tr>\n",
       "    <tr>\n",
       "      <th rowspan=\"2\" valign=\"top\">usa</th>\n",
       "      <th>android</th>\n",
       "      <td>33.760357</td>\n",
       "    </tr>\n",
       "    <tr>\n",
       "      <th>ios</th>\n",
       "      <td>34.371703</td>\n",
       "    </tr>\n",
       "  </tbody>\n",
       "</table>\n",
       "</div>"
      ],
      "text/plain": [
       "                     PRICE\n",
       "COUNTRY SOURCE            \n",
       "bra     android  34.387029\n",
       "        ios      34.222222\n",
       "can     android  33.330709\n",
       "        ios      33.951456\n",
       "deu     android  33.869888\n",
       "        ios      34.268817\n",
       "fra     android  34.312500\n",
       "        ios      32.776224\n",
       "tur     android  36.229437\n",
       "        ios      33.272727\n",
       "usa     android  33.760357\n",
       "        ios      34.371703"
      ]
     },
     "execution_count": 10,
     "metadata": {},
     "output_type": "execute_result"
    }
   ],
   "source": [
    "df.groupby([\"COUNTRY\", \"SOURCE\"]).agg({\"PRICE\" : \"mean\"})"
   ]
  },
  {
   "cell_type": "markdown",
   "id": "7e3348ea",
   "metadata": {
    "papermill": {
     "duration": 0.011953,
     "end_time": "2024-07-24T08:38:53.959331",
     "exception": false,
     "start_time": "2024-07-24T08:38:53.947378",
     "status": "completed"
    },
    "tags": []
   },
   "source": [
    "Görev 2: COUNTRY, SOURCE, SEX, AGE kırılımında ortalama kazançlar nedir?"
   ]
  },
  {
   "cell_type": "code",
   "execution_count": 11,
   "id": "001377e7",
   "metadata": {
    "execution": {
     "iopub.execute_input": "2024-07-24T08:38:53.985363Z",
     "iopub.status.busy": "2024-07-24T08:38:53.984972Z",
     "iopub.status.idle": "2024-07-24T08:38:54.009673Z",
     "shell.execute_reply": "2024-07-24T08:38:54.008410Z"
    },
    "papermill": {
     "duration": 0.041081,
     "end_time": "2024-07-24T08:38:54.012512",
     "exception": false,
     "start_time": "2024-07-24T08:38:53.971431",
     "status": "completed"
    },
    "tags": []
   },
   "outputs": [
    {
     "data": {
      "text/html": [
       "<div>\n",
       "<style scoped>\n",
       "    .dataframe tbody tr th:only-of-type {\n",
       "        vertical-align: middle;\n",
       "    }\n",
       "\n",
       "    .dataframe tbody tr th {\n",
       "        vertical-align: top;\n",
       "    }\n",
       "\n",
       "    .dataframe thead th {\n",
       "        text-align: right;\n",
       "    }\n",
       "</style>\n",
       "<table border=\"1\" class=\"dataframe\">\n",
       "  <thead>\n",
       "    <tr style=\"text-align: right;\">\n",
       "      <th></th>\n",
       "      <th></th>\n",
       "      <th></th>\n",
       "      <th></th>\n",
       "      <th>PRICE</th>\n",
       "    </tr>\n",
       "    <tr>\n",
       "      <th>COUNTRY</th>\n",
       "      <th>SOURCE</th>\n",
       "      <th>SEX</th>\n",
       "      <th>AGE</th>\n",
       "      <th></th>\n",
       "    </tr>\n",
       "  </thead>\n",
       "  <tbody>\n",
       "    <tr>\n",
       "      <th rowspan=\"5\" valign=\"top\">bra</th>\n",
       "      <th rowspan=\"5\" valign=\"top\">android</th>\n",
       "      <th rowspan=\"5\" valign=\"top\">female</th>\n",
       "      <th>15</th>\n",
       "      <td>38.714286</td>\n",
       "    </tr>\n",
       "    <tr>\n",
       "      <th>16</th>\n",
       "      <td>35.944444</td>\n",
       "    </tr>\n",
       "    <tr>\n",
       "      <th>17</th>\n",
       "      <td>35.666667</td>\n",
       "    </tr>\n",
       "    <tr>\n",
       "      <th>18</th>\n",
       "      <td>32.255814</td>\n",
       "    </tr>\n",
       "    <tr>\n",
       "      <th>19</th>\n",
       "      <td>35.206897</td>\n",
       "    </tr>\n",
       "    <tr>\n",
       "      <th>...</th>\n",
       "      <th>...</th>\n",
       "      <th>...</th>\n",
       "      <th>...</th>\n",
       "      <td>...</td>\n",
       "    </tr>\n",
       "    <tr>\n",
       "      <th rowspan=\"5\" valign=\"top\">usa</th>\n",
       "      <th rowspan=\"5\" valign=\"top\">ios</th>\n",
       "      <th rowspan=\"5\" valign=\"top\">male</th>\n",
       "      <th>42</th>\n",
       "      <td>30.250000</td>\n",
       "    </tr>\n",
       "    <tr>\n",
       "      <th>50</th>\n",
       "      <td>39.000000</td>\n",
       "    </tr>\n",
       "    <tr>\n",
       "      <th>53</th>\n",
       "      <td>34.000000</td>\n",
       "    </tr>\n",
       "    <tr>\n",
       "      <th>55</th>\n",
       "      <td>29.000000</td>\n",
       "    </tr>\n",
       "    <tr>\n",
       "      <th>59</th>\n",
       "      <td>46.500000</td>\n",
       "    </tr>\n",
       "  </tbody>\n",
       "</table>\n",
       "<p>348 rows × 1 columns</p>\n",
       "</div>"
      ],
      "text/plain": [
       "                                PRICE\n",
       "COUNTRY SOURCE  SEX    AGE           \n",
       "bra     android female 15   38.714286\n",
       "                       16   35.944444\n",
       "                       17   35.666667\n",
       "                       18   32.255814\n",
       "                       19   35.206897\n",
       "...                               ...\n",
       "usa     ios     male   42   30.250000\n",
       "                       50   39.000000\n",
       "                       53   34.000000\n",
       "                       55   29.000000\n",
       "                       59   46.500000\n",
       "\n",
       "[348 rows x 1 columns]"
      ]
     },
     "execution_count": 11,
     "metadata": {},
     "output_type": "execute_result"
    }
   ],
   "source": [
    "df.groupby([\"COUNTRY\", \"SOURCE\", \"SEX\", \"AGE\"]).agg({\"PRICE\" : \"mean\"})"
   ]
  },
  {
   "cell_type": "markdown",
   "id": "f86034a6",
   "metadata": {
    "papermill": {
     "duration": 0.012013,
     "end_time": "2024-07-24T08:38:54.037277",
     "exception": false,
     "start_time": "2024-07-24T08:38:54.025264",
     "status": "completed"
    },
    "tags": []
   },
   "source": [
    "Görev 3: Çıktıyı PRICE’a göre sıralayınız.\n",
    "\n",
    "• Önceki sorudaki çıktıyı daha iyi görebilmek için sort_values metodunu azalan olacak şekilde PRICE’a göre uygulayınız.\n",
    "\n",
    "• Çıktıyı agg_df olarak kaydediniz.\n"
   ]
  },
  {
   "cell_type": "code",
   "execution_count": 12,
   "id": "55e56742",
   "metadata": {
    "execution": {
     "iopub.execute_input": "2024-07-24T08:38:54.064547Z",
     "iopub.status.busy": "2024-07-24T08:38:54.063534Z",
     "iopub.status.idle": "2024-07-24T08:38:54.084221Z",
     "shell.execute_reply": "2024-07-24T08:38:54.083017Z"
    },
    "papermill": {
     "duration": 0.03712,
     "end_time": "2024-07-24T08:38:54.086843",
     "exception": false,
     "start_time": "2024-07-24T08:38:54.049723",
     "status": "completed"
    },
    "tags": []
   },
   "outputs": [
    {
     "data": {
      "text/html": [
       "<div>\n",
       "<style scoped>\n",
       "    .dataframe tbody tr th:only-of-type {\n",
       "        vertical-align: middle;\n",
       "    }\n",
       "\n",
       "    .dataframe tbody tr th {\n",
       "        vertical-align: top;\n",
       "    }\n",
       "\n",
       "    .dataframe thead th {\n",
       "        text-align: right;\n",
       "    }\n",
       "</style>\n",
       "<table border=\"1\" class=\"dataframe\">\n",
       "  <thead>\n",
       "    <tr style=\"text-align: right;\">\n",
       "      <th></th>\n",
       "      <th></th>\n",
       "      <th></th>\n",
       "      <th></th>\n",
       "      <th>PRICE</th>\n",
       "    </tr>\n",
       "    <tr>\n",
       "      <th>COUNTRY</th>\n",
       "      <th>SOURCE</th>\n",
       "      <th>SEX</th>\n",
       "      <th>AGE</th>\n",
       "      <th></th>\n",
       "    </tr>\n",
       "  </thead>\n",
       "  <tbody>\n",
       "    <tr>\n",
       "      <th>bra</th>\n",
       "      <th>android</th>\n",
       "      <th>male</th>\n",
       "      <th>46</th>\n",
       "      <td>59.0</td>\n",
       "    </tr>\n",
       "    <tr>\n",
       "      <th>usa</th>\n",
       "      <th>android</th>\n",
       "      <th>male</th>\n",
       "      <th>36</th>\n",
       "      <td>59.0</td>\n",
       "    </tr>\n",
       "    <tr>\n",
       "      <th>fra</th>\n",
       "      <th>android</th>\n",
       "      <th>female</th>\n",
       "      <th>24</th>\n",
       "      <td>59.0</td>\n",
       "    </tr>\n",
       "    <tr>\n",
       "      <th>usa</th>\n",
       "      <th>ios</th>\n",
       "      <th>male</th>\n",
       "      <th>32</th>\n",
       "      <td>54.0</td>\n",
       "    </tr>\n",
       "    <tr>\n",
       "      <th>deu</th>\n",
       "      <th>android</th>\n",
       "      <th>female</th>\n",
       "      <th>36</th>\n",
       "      <td>49.0</td>\n",
       "    </tr>\n",
       "  </tbody>\n",
       "</table>\n",
       "</div>"
      ],
      "text/plain": [
       "                            PRICE\n",
       "COUNTRY SOURCE  SEX    AGE       \n",
       "bra     android male   46    59.0\n",
       "usa     android male   36    59.0\n",
       "fra     android female 24    59.0\n",
       "usa     ios     male   32    54.0\n",
       "deu     android female 36    49.0"
      ]
     },
     "execution_count": 12,
     "metadata": {},
     "output_type": "execute_result"
    }
   ],
   "source": [
    "agg_df = df.groupby([\"COUNTRY\", \"SOURCE\", \"SEX\", \"AGE\"]).agg({\"PRICE\" : \"mean\"}).sort_values(\"PRICE\", ascending=False)\n",
    "agg_df.head()"
   ]
  },
  {
   "cell_type": "markdown",
   "id": "60d86bd3",
   "metadata": {
    "papermill": {
     "duration": 0.012367,
     "end_time": "2024-07-24T08:38:54.112516",
     "exception": false,
     "start_time": "2024-07-24T08:38:54.100149",
     "status": "completed"
    },
    "tags": []
   },
   "source": [
    "Görev 4: Indekste yer alan isimleri değişken ismine çeviriniz.\n",
    "\n",
    "• Üçüncü sorunun çıktısında yer alan PRICE dışındaki tüm değişkenler index isimleridir. Bu isimleri değişken isimlerine çeviriniz."
   ]
  },
  {
   "cell_type": "code",
   "execution_count": 13,
   "id": "9a2910b5",
   "metadata": {
    "execution": {
     "iopub.execute_input": "2024-07-24T08:38:54.140520Z",
     "iopub.status.busy": "2024-07-24T08:38:54.140133Z",
     "iopub.status.idle": "2024-07-24T08:38:54.158003Z",
     "shell.execute_reply": "2024-07-24T08:38:54.156778Z"
    },
    "papermill": {
     "duration": 0.035527,
     "end_time": "2024-07-24T08:38:54.160865",
     "exception": false,
     "start_time": "2024-07-24T08:38:54.125338",
     "status": "completed"
    },
    "tags": []
   },
   "outputs": [
    {
     "data": {
      "text/html": [
       "<div>\n",
       "<style scoped>\n",
       "    .dataframe tbody tr th:only-of-type {\n",
       "        vertical-align: middle;\n",
       "    }\n",
       "\n",
       "    .dataframe tbody tr th {\n",
       "        vertical-align: top;\n",
       "    }\n",
       "\n",
       "    .dataframe thead th {\n",
       "        text-align: right;\n",
       "    }\n",
       "</style>\n",
       "<table border=\"1\" class=\"dataframe\">\n",
       "  <thead>\n",
       "    <tr style=\"text-align: right;\">\n",
       "      <th></th>\n",
       "      <th>COUNTRY</th>\n",
       "      <th>SOURCE</th>\n",
       "      <th>SEX</th>\n",
       "      <th>AGE</th>\n",
       "      <th>PRICE</th>\n",
       "    </tr>\n",
       "  </thead>\n",
       "  <tbody>\n",
       "    <tr>\n",
       "      <th>0</th>\n",
       "      <td>bra</td>\n",
       "      <td>android</td>\n",
       "      <td>male</td>\n",
       "      <td>46</td>\n",
       "      <td>59.0</td>\n",
       "    </tr>\n",
       "    <tr>\n",
       "      <th>1</th>\n",
       "      <td>usa</td>\n",
       "      <td>android</td>\n",
       "      <td>male</td>\n",
       "      <td>36</td>\n",
       "      <td>59.0</td>\n",
       "    </tr>\n",
       "    <tr>\n",
       "      <th>2</th>\n",
       "      <td>fra</td>\n",
       "      <td>android</td>\n",
       "      <td>female</td>\n",
       "      <td>24</td>\n",
       "      <td>59.0</td>\n",
       "    </tr>\n",
       "    <tr>\n",
       "      <th>3</th>\n",
       "      <td>usa</td>\n",
       "      <td>ios</td>\n",
       "      <td>male</td>\n",
       "      <td>32</td>\n",
       "      <td>54.0</td>\n",
       "    </tr>\n",
       "    <tr>\n",
       "      <th>4</th>\n",
       "      <td>deu</td>\n",
       "      <td>android</td>\n",
       "      <td>female</td>\n",
       "      <td>36</td>\n",
       "      <td>49.0</td>\n",
       "    </tr>\n",
       "  </tbody>\n",
       "</table>\n",
       "</div>"
      ],
      "text/plain": [
       "  COUNTRY   SOURCE     SEX  AGE  PRICE\n",
       "0     bra  android    male   46   59.0\n",
       "1     usa  android    male   36   59.0\n",
       "2     fra  android  female   24   59.0\n",
       "3     usa      ios    male   32   54.0\n",
       "4     deu  android  female   36   49.0"
      ]
     },
     "execution_count": 13,
     "metadata": {},
     "output_type": "execute_result"
    }
   ],
   "source": [
    "agg_df = agg_df.reset_index()\n",
    "agg_df.head()"
   ]
  },
  {
   "cell_type": "markdown",
   "id": "ab092edc",
   "metadata": {
    "papermill": {
     "duration": 0.013158,
     "end_time": "2024-07-24T08:38:54.188470",
     "exception": false,
     "start_time": "2024-07-24T08:38:54.175312",
     "status": "completed"
    },
    "tags": []
   },
   "source": [
    "Görev 5: Age değişkenini kategorik değişkene çeviriniz ve agg_df’e ekleyiniz.\n",
    "\n",
    "• Age sayısal değişkenini kategorik değişkene çeviriniz.\n",
    "\n",
    "• Aralıkları ikna edici şekilde oluşturunuz.\n",
    "\n",
    "• Örneğin: ‘0_18', ‘19_23', '24_30', '31_40', '41_70'"
   ]
  },
  {
   "cell_type": "code",
   "execution_count": 14,
   "id": "a4181e0e",
   "metadata": {
    "execution": {
     "iopub.execute_input": "2024-07-24T08:38:54.216956Z",
     "iopub.status.busy": "2024-07-24T08:38:54.216546Z",
     "iopub.status.idle": "2024-07-24T08:38:54.236302Z",
     "shell.execute_reply": "2024-07-24T08:38:54.235141Z"
    },
    "papermill": {
     "duration": 0.036533,
     "end_time": "2024-07-24T08:38:54.238907",
     "exception": false,
     "start_time": "2024-07-24T08:38:54.202374",
     "status": "completed"
    },
    "tags": []
   },
   "outputs": [
    {
     "data": {
      "text/html": [
       "<div>\n",
       "<style scoped>\n",
       "    .dataframe tbody tr th:only-of-type {\n",
       "        vertical-align: middle;\n",
       "    }\n",
       "\n",
       "    .dataframe tbody tr th {\n",
       "        vertical-align: top;\n",
       "    }\n",
       "\n",
       "    .dataframe thead th {\n",
       "        text-align: right;\n",
       "    }\n",
       "</style>\n",
       "<table border=\"1\" class=\"dataframe\">\n",
       "  <thead>\n",
       "    <tr style=\"text-align: right;\">\n",
       "      <th></th>\n",
       "      <th>COUNTRY</th>\n",
       "      <th>SOURCE</th>\n",
       "      <th>SEX</th>\n",
       "      <th>AGE</th>\n",
       "      <th>PRICE</th>\n",
       "      <th>AGE_CAT</th>\n",
       "    </tr>\n",
       "  </thead>\n",
       "  <tbody>\n",
       "    <tr>\n",
       "      <th>0</th>\n",
       "      <td>bra</td>\n",
       "      <td>android</td>\n",
       "      <td>male</td>\n",
       "      <td>46</td>\n",
       "      <td>59.0</td>\n",
       "      <td>41_70</td>\n",
       "    </tr>\n",
       "    <tr>\n",
       "      <th>1</th>\n",
       "      <td>usa</td>\n",
       "      <td>android</td>\n",
       "      <td>male</td>\n",
       "      <td>36</td>\n",
       "      <td>59.0</td>\n",
       "      <td>31_40</td>\n",
       "    </tr>\n",
       "    <tr>\n",
       "      <th>2</th>\n",
       "      <td>fra</td>\n",
       "      <td>android</td>\n",
       "      <td>female</td>\n",
       "      <td>24</td>\n",
       "      <td>59.0</td>\n",
       "      <td>24_30</td>\n",
       "    </tr>\n",
       "    <tr>\n",
       "      <th>3</th>\n",
       "      <td>usa</td>\n",
       "      <td>ios</td>\n",
       "      <td>male</td>\n",
       "      <td>32</td>\n",
       "      <td>54.0</td>\n",
       "      <td>31_40</td>\n",
       "    </tr>\n",
       "    <tr>\n",
       "      <th>4</th>\n",
       "      <td>deu</td>\n",
       "      <td>android</td>\n",
       "      <td>female</td>\n",
       "      <td>36</td>\n",
       "      <td>49.0</td>\n",
       "      <td>31_40</td>\n",
       "    </tr>\n",
       "  </tbody>\n",
       "</table>\n",
       "</div>"
      ],
      "text/plain": [
       "  COUNTRY   SOURCE     SEX  AGE  PRICE AGE_CAT\n",
       "0     bra  android    male   46   59.0   41_70\n",
       "1     usa  android    male   36   59.0   31_40\n",
       "2     fra  android  female   24   59.0   24_30\n",
       "3     usa      ios    male   32   54.0   31_40\n",
       "4     deu  android  female   36   49.0   31_40"
      ]
     },
     "execution_count": 14,
     "metadata": {},
     "output_type": "execute_result"
    }
   ],
   "source": [
    "bins = [0, 18, 23, 30, 40,70]\n",
    "labels = [\"0_18\", \"19_23\", \"24_30\", \"31_40\", \"41_70\"]\n",
    "agg_df[\"AGE_CAT\"] =pd.cut(agg_df[\"AGE\"], bins=bins, labels=labels)\n",
    "agg_df.head()"
   ]
  },
  {
   "cell_type": "markdown",
   "id": "8d2c74dd",
   "metadata": {
    "papermill": {
     "duration": 0.013114,
     "end_time": "2024-07-24T08:38:54.265587",
     "exception": false,
     "start_time": "2024-07-24T08:38:54.252473",
     "status": "completed"
    },
    "tags": []
   },
   "source": [
    "Görev 6: Yeni seviye tabanlı müşterileri (persona) tanımlayınız.\n",
    "\n",
    "• Yeni seviye tabanlı müşterileri (persona) tanımlayınız ve veri setine değişken olarak ekleyiniz.\n",
    "\n",
    "• Yeni eklenecek değişkenin adı: customers_level_based\n",
    "\n",
    "• Önceki soruda elde edeceğiniz çıktıdaki gözlemleri bir araya getirerek customers_level_based değişkenini oluşturmanız gerekmektedir."
   ]
  },
  {
   "cell_type": "code",
   "execution_count": 15,
   "id": "a5c03da2",
   "metadata": {
    "execution": {
     "iopub.execute_input": "2024-07-24T08:38:54.294442Z",
     "iopub.status.busy": "2024-07-24T08:38:54.294023Z",
     "iopub.status.idle": "2024-07-24T08:38:54.317704Z",
     "shell.execute_reply": "2024-07-24T08:38:54.316533Z"
    },
    "papermill": {
     "duration": 0.041279,
     "end_time": "2024-07-24T08:38:54.320334",
     "exception": false,
     "start_time": "2024-07-24T08:38:54.279055",
     "status": "completed"
    },
    "tags": []
   },
   "outputs": [
    {
     "data": {
      "text/html": [
       "<div>\n",
       "<style scoped>\n",
       "    .dataframe tbody tr th:only-of-type {\n",
       "        vertical-align: middle;\n",
       "    }\n",
       "\n",
       "    .dataframe tbody tr th {\n",
       "        vertical-align: top;\n",
       "    }\n",
       "\n",
       "    .dataframe thead th {\n",
       "        text-align: right;\n",
       "    }\n",
       "</style>\n",
       "<table border=\"1\" class=\"dataframe\">\n",
       "  <thead>\n",
       "    <tr style=\"text-align: right;\">\n",
       "      <th></th>\n",
       "      <th>COUNTRY</th>\n",
       "      <th>SOURCE</th>\n",
       "      <th>SEX</th>\n",
       "      <th>AGE</th>\n",
       "      <th>PRICE</th>\n",
       "      <th>AGE_CAT</th>\n",
       "      <th>customer_level_based</th>\n",
       "    </tr>\n",
       "  </thead>\n",
       "  <tbody>\n",
       "    <tr>\n",
       "      <th>0</th>\n",
       "      <td>bra</td>\n",
       "      <td>android</td>\n",
       "      <td>male</td>\n",
       "      <td>46</td>\n",
       "      <td>59.0</td>\n",
       "      <td>41_70</td>\n",
       "      <td>BRA_ANDROID_MALE_41_70</td>\n",
       "    </tr>\n",
       "    <tr>\n",
       "      <th>1</th>\n",
       "      <td>usa</td>\n",
       "      <td>android</td>\n",
       "      <td>male</td>\n",
       "      <td>36</td>\n",
       "      <td>59.0</td>\n",
       "      <td>31_40</td>\n",
       "      <td>USA_ANDROID_MALE_31_40</td>\n",
       "    </tr>\n",
       "    <tr>\n",
       "      <th>2</th>\n",
       "      <td>fra</td>\n",
       "      <td>android</td>\n",
       "      <td>female</td>\n",
       "      <td>24</td>\n",
       "      <td>59.0</td>\n",
       "      <td>24_30</td>\n",
       "      <td>FRA_ANDROID_FEMALE_24_30</td>\n",
       "    </tr>\n",
       "    <tr>\n",
       "      <th>3</th>\n",
       "      <td>usa</td>\n",
       "      <td>ios</td>\n",
       "      <td>male</td>\n",
       "      <td>32</td>\n",
       "      <td>54.0</td>\n",
       "      <td>31_40</td>\n",
       "      <td>USA_IOS_MALE_31_40</td>\n",
       "    </tr>\n",
       "    <tr>\n",
       "      <th>4</th>\n",
       "      <td>deu</td>\n",
       "      <td>android</td>\n",
       "      <td>female</td>\n",
       "      <td>36</td>\n",
       "      <td>49.0</td>\n",
       "      <td>31_40</td>\n",
       "      <td>DEU_ANDROID_FEMALE_31_40</td>\n",
       "    </tr>\n",
       "  </tbody>\n",
       "</table>\n",
       "</div>"
      ],
      "text/plain": [
       "  COUNTRY   SOURCE     SEX  AGE  PRICE AGE_CAT      customer_level_based\n",
       "0     bra  android    male   46   59.0   41_70    BRA_ANDROID_MALE_41_70\n",
       "1     usa  android    male   36   59.0   31_40    USA_ANDROID_MALE_31_40\n",
       "2     fra  android  female   24   59.0   24_30  FRA_ANDROID_FEMALE_24_30\n",
       "3     usa      ios    male   32   54.0   31_40        USA_IOS_MALE_31_40\n",
       "4     deu  android  female   36   49.0   31_40  DEU_ANDROID_FEMALE_31_40"
      ]
     },
     "execution_count": 15,
     "metadata": {},
     "output_type": "execute_result"
    }
   ],
   "source": [
    "agg_df[\"customer_level_based\"] = [country.upper() + \"_\" + source.upper() + \"_\" + sex.upper() + \"_\" + age_cat.upper()\n",
    "                                  for country, source, sex, age_cat in agg_df[[\"COUNTRY\", \"SOURCE\", \"SEX\", \"AGE_CAT\"]].values]\n",
    "agg_df.head()"
   ]
  },
  {
   "cell_type": "markdown",
   "id": "e0e17614",
   "metadata": {
    "papermill": {
     "duration": 0.013916,
     "end_time": "2024-07-24T08:38:54.347939",
     "exception": false,
     "start_time": "2024-07-24T08:38:54.334023",
     "status": "completed"
    },
    "tags": []
   },
   "source": [
    "Görev 7: Yeni müşterileri (personaları) segmentlere ayırınız.\n",
    "\n",
    "• Yeni müşterileri (Örnek: USA_ANDROID_MALE_0_18) PRICE’a göre 4 segmente ayırınız.\n",
    "\n",
    "• Segmentleri SEGMENT isimlendirmesi ile değişken olarak agg_df’e ekleyiniz.\n",
    "\n",
    "• Segmentleri betimleyiniz (Segmentlere göre group by yapıp price mean, max, sum’larını alınız)."
   ]
  },
  {
   "cell_type": "code",
   "execution_count": 16,
   "id": "d1a45d42",
   "metadata": {
    "execution": {
     "iopub.execute_input": "2024-07-24T08:38:54.376665Z",
     "iopub.status.busy": "2024-07-24T08:38:54.376276Z",
     "iopub.status.idle": "2024-07-24T08:38:54.397024Z",
     "shell.execute_reply": "2024-07-24T08:38:54.395924Z"
    },
    "papermill": {
     "duration": 0.0383,
     "end_time": "2024-07-24T08:38:54.399771",
     "exception": false,
     "start_time": "2024-07-24T08:38:54.361471",
     "status": "completed"
    },
    "tags": []
   },
   "outputs": [
    {
     "data": {
      "text/html": [
       "<div>\n",
       "<style scoped>\n",
       "    .dataframe tbody tr th:only-of-type {\n",
       "        vertical-align: middle;\n",
       "    }\n",
       "\n",
       "    .dataframe tbody tr th {\n",
       "        vertical-align: top;\n",
       "    }\n",
       "\n",
       "    .dataframe thead th {\n",
       "        text-align: right;\n",
       "    }\n",
       "</style>\n",
       "<table border=\"1\" class=\"dataframe\">\n",
       "  <thead>\n",
       "    <tr style=\"text-align: right;\">\n",
       "      <th></th>\n",
       "      <th>COUNTRY</th>\n",
       "      <th>SOURCE</th>\n",
       "      <th>SEX</th>\n",
       "      <th>AGE</th>\n",
       "      <th>PRICE</th>\n",
       "      <th>AGE_CAT</th>\n",
       "      <th>customer_level_based</th>\n",
       "      <th>SEGMENT</th>\n",
       "    </tr>\n",
       "  </thead>\n",
       "  <tbody>\n",
       "    <tr>\n",
       "      <th>0</th>\n",
       "      <td>bra</td>\n",
       "      <td>android</td>\n",
       "      <td>male</td>\n",
       "      <td>46</td>\n",
       "      <td>59.0</td>\n",
       "      <td>41_70</td>\n",
       "      <td>BRA_ANDROID_MALE_41_70</td>\n",
       "      <td>A</td>\n",
       "    </tr>\n",
       "    <tr>\n",
       "      <th>1</th>\n",
       "      <td>usa</td>\n",
       "      <td>android</td>\n",
       "      <td>male</td>\n",
       "      <td>36</td>\n",
       "      <td>59.0</td>\n",
       "      <td>31_40</td>\n",
       "      <td>USA_ANDROID_MALE_31_40</td>\n",
       "      <td>A</td>\n",
       "    </tr>\n",
       "    <tr>\n",
       "      <th>2</th>\n",
       "      <td>fra</td>\n",
       "      <td>android</td>\n",
       "      <td>female</td>\n",
       "      <td>24</td>\n",
       "      <td>59.0</td>\n",
       "      <td>24_30</td>\n",
       "      <td>FRA_ANDROID_FEMALE_24_30</td>\n",
       "      <td>A</td>\n",
       "    </tr>\n",
       "    <tr>\n",
       "      <th>3</th>\n",
       "      <td>usa</td>\n",
       "      <td>ios</td>\n",
       "      <td>male</td>\n",
       "      <td>32</td>\n",
       "      <td>54.0</td>\n",
       "      <td>31_40</td>\n",
       "      <td>USA_IOS_MALE_31_40</td>\n",
       "      <td>A</td>\n",
       "    </tr>\n",
       "    <tr>\n",
       "      <th>4</th>\n",
       "      <td>deu</td>\n",
       "      <td>android</td>\n",
       "      <td>female</td>\n",
       "      <td>36</td>\n",
       "      <td>49.0</td>\n",
       "      <td>31_40</td>\n",
       "      <td>DEU_ANDROID_FEMALE_31_40</td>\n",
       "      <td>A</td>\n",
       "    </tr>\n",
       "  </tbody>\n",
       "</table>\n",
       "</div>"
      ],
      "text/plain": [
       "  COUNTRY   SOURCE     SEX  AGE  PRICE AGE_CAT      customer_level_based  \\\n",
       "0     bra  android    male   46   59.0   41_70    BRA_ANDROID_MALE_41_70   \n",
       "1     usa  android    male   36   59.0   31_40    USA_ANDROID_MALE_31_40   \n",
       "2     fra  android  female   24   59.0   24_30  FRA_ANDROID_FEMALE_24_30   \n",
       "3     usa      ios    male   32   54.0   31_40        USA_IOS_MALE_31_40   \n",
       "4     deu  android  female   36   49.0   31_40  DEU_ANDROID_FEMALE_31_40   \n",
       "\n",
       "  SEGMENT  \n",
       "0       A  \n",
       "1       A  \n",
       "2       A  \n",
       "3       A  \n",
       "4       A  "
      ]
     },
     "execution_count": 16,
     "metadata": {},
     "output_type": "execute_result"
    }
   ],
   "source": [
    "agg_df[\"SEGMENT\"] = pd.qcut(agg_df[\"PRICE\"], 4, labels=[\"D\", \"C\", \"B\", \"A\"])\n",
    "agg_df.head()"
   ]
  },
  {
   "cell_type": "code",
   "execution_count": 17,
   "id": "28342a1e",
   "metadata": {
    "execution": {
     "iopub.execute_input": "2024-07-24T08:38:54.429865Z",
     "iopub.status.busy": "2024-07-24T08:38:54.428861Z",
     "iopub.status.idle": "2024-07-24T08:38:54.457258Z",
     "shell.execute_reply": "2024-07-24T08:38:54.455960Z"
    },
    "papermill": {
     "duration": 0.047468,
     "end_time": "2024-07-24T08:38:54.461228",
     "exception": false,
     "start_time": "2024-07-24T08:38:54.413760",
     "status": "completed"
    },
    "tags": []
   },
   "outputs": [
    {
     "name": "stderr",
     "output_type": "stream",
     "text": [
      "/tmp/ipykernel_18/185536020.py:1: FutureWarning: The default of observed=False is deprecated and will be changed to True in a future version of pandas. Pass observed=False to retain current behavior or observed=True to adopt the future default and silence this warning.\n",
      "  agg_df.groupby(\"SEGMENT\").agg({\"PRICE\" : [\"sum\", \"mean\", \"count\", \"median\"]})\n"
     ]
    },
    {
     "data": {
      "text/html": [
       "<div>\n",
       "<style scoped>\n",
       "    .dataframe tbody tr th:only-of-type {\n",
       "        vertical-align: middle;\n",
       "    }\n",
       "\n",
       "    .dataframe tbody tr th {\n",
       "        vertical-align: top;\n",
       "    }\n",
       "\n",
       "    .dataframe thead tr th {\n",
       "        text-align: left;\n",
       "    }\n",
       "\n",
       "    .dataframe thead tr:last-of-type th {\n",
       "        text-align: right;\n",
       "    }\n",
       "</style>\n",
       "<table border=\"1\" class=\"dataframe\">\n",
       "  <thead>\n",
       "    <tr>\n",
       "      <th></th>\n",
       "      <th colspan=\"4\" halign=\"left\">PRICE</th>\n",
       "    </tr>\n",
       "    <tr>\n",
       "      <th></th>\n",
       "      <th>sum</th>\n",
       "      <th>mean</th>\n",
       "      <th>count</th>\n",
       "      <th>median</th>\n",
       "    </tr>\n",
       "    <tr>\n",
       "      <th>SEGMENT</th>\n",
       "      <th></th>\n",
       "      <th></th>\n",
       "      <th></th>\n",
       "      <th></th>\n",
       "    </tr>\n",
       "  </thead>\n",
       "  <tbody>\n",
       "    <tr>\n",
       "      <th>D</th>\n",
       "      <td>2375.325850</td>\n",
       "      <td>27.302596</td>\n",
       "      <td>87</td>\n",
       "      <td>29.000000</td>\n",
       "    </tr>\n",
       "    <tr>\n",
       "      <th>C</th>\n",
       "      <td>3128.667165</td>\n",
       "      <td>32.933339</td>\n",
       "      <td>95</td>\n",
       "      <td>32.913043</td>\n",
       "    </tr>\n",
       "    <tr>\n",
       "      <th>B</th>\n",
       "      <td>2870.329792</td>\n",
       "      <td>35.436170</td>\n",
       "      <td>81</td>\n",
       "      <td>35.333333</td>\n",
       "    </tr>\n",
       "    <tr>\n",
       "      <th>A</th>\n",
       "      <td>3521.952577</td>\n",
       "      <td>41.434736</td>\n",
       "      <td>85</td>\n",
       "      <td>39.666667</td>\n",
       "    </tr>\n",
       "  </tbody>\n",
       "</table>\n",
       "</div>"
      ],
      "text/plain": [
       "               PRICE                            \n",
       "                 sum       mean count     median\n",
       "SEGMENT                                         \n",
       "D        2375.325850  27.302596    87  29.000000\n",
       "C        3128.667165  32.933339    95  32.913043\n",
       "B        2870.329792  35.436170    81  35.333333\n",
       "A        3521.952577  41.434736    85  39.666667"
      ]
     },
     "execution_count": 17,
     "metadata": {},
     "output_type": "execute_result"
    }
   ],
   "source": [
    "agg_df.groupby(\"SEGMENT\").agg({\"PRICE\" : [\"sum\", \"mean\", \"count\", \"median\"]})"
   ]
  },
  {
   "cell_type": "markdown",
   "id": "be87c209",
   "metadata": {
    "papermill": {
     "duration": 0.013778,
     "end_time": "2024-07-24T08:38:54.489631",
     "exception": false,
     "start_time": "2024-07-24T08:38:54.475853",
     "status": "completed"
    },
    "tags": []
   },
   "source": [
    "Görev 8: Yeni gelen müşterileri sınıflandırıp, ne kadar gelir getirebileceklerini tahmin ediniz.\n",
    "\n",
    "• 33 yaşında ANDROID kullanan bir Türk kadını hangi segmente aittir ve ortalama ne kadar gelir kazandırması beklenir?\n",
    "\n",
    "• 35 yaşında IOS kullanan bir Fransız kadını hangi segmente aittir ve ortalama ne kadar gelir kazandırması beklenir?"
   ]
  },
  {
   "cell_type": "code",
   "execution_count": 18,
   "id": "be7e3609",
   "metadata": {
    "execution": {
     "iopub.execute_input": "2024-07-24T08:38:54.520207Z",
     "iopub.status.busy": "2024-07-24T08:38:54.519774Z",
     "iopub.status.idle": "2024-07-24T08:38:54.538953Z",
     "shell.execute_reply": "2024-07-24T08:38:54.537541Z"
    },
    "papermill": {
     "duration": 0.037666,
     "end_time": "2024-07-24T08:38:54.541499",
     "exception": false,
     "start_time": "2024-07-24T08:38:54.503833",
     "status": "completed"
    },
    "tags": []
   },
   "outputs": [
    {
     "data": {
      "text/html": [
       "<div>\n",
       "<style scoped>\n",
       "    .dataframe tbody tr th:only-of-type {\n",
       "        vertical-align: middle;\n",
       "    }\n",
       "\n",
       "    .dataframe tbody tr th {\n",
       "        vertical-align: top;\n",
       "    }\n",
       "\n",
       "    .dataframe thead th {\n",
       "        text-align: right;\n",
       "    }\n",
       "</style>\n",
       "<table border=\"1\" class=\"dataframe\">\n",
       "  <thead>\n",
       "    <tr style=\"text-align: right;\">\n",
       "      <th></th>\n",
       "      <th>COUNTRY</th>\n",
       "      <th>SOURCE</th>\n",
       "      <th>SEX</th>\n",
       "      <th>AGE</th>\n",
       "      <th>PRICE</th>\n",
       "      <th>AGE_CAT</th>\n",
       "      <th>customer_level_based</th>\n",
       "      <th>SEGMENT</th>\n",
       "    </tr>\n",
       "  </thead>\n",
       "  <tbody>\n",
       "    <tr>\n",
       "      <th>18</th>\n",
       "      <td>tur</td>\n",
       "      <td>android</td>\n",
       "      <td>female</td>\n",
       "      <td>32</td>\n",
       "      <td>43.000000</td>\n",
       "      <td>31_40</td>\n",
       "      <td>TUR_ANDROID_FEMALE_31_40</td>\n",
       "      <td>A</td>\n",
       "    </tr>\n",
       "    <tr>\n",
       "      <th>35</th>\n",
       "      <td>tur</td>\n",
       "      <td>android</td>\n",
       "      <td>female</td>\n",
       "      <td>31</td>\n",
       "      <td>40.666667</td>\n",
       "      <td>31_40</td>\n",
       "      <td>TUR_ANDROID_FEMALE_31_40</td>\n",
       "      <td>A</td>\n",
       "    </tr>\n",
       "  </tbody>\n",
       "</table>\n",
       "</div>"
      ],
      "text/plain": [
       "   COUNTRY   SOURCE     SEX  AGE      PRICE AGE_CAT      customer_level_based  \\\n",
       "18     tur  android  female   32  43.000000   31_40  TUR_ANDROID_FEMALE_31_40   \n",
       "35     tur  android  female   31  40.666667   31_40  TUR_ANDROID_FEMALE_31_40   \n",
       "\n",
       "   SEGMENT  \n",
       "18       A  \n",
       "35       A  "
      ]
     },
     "execution_count": 18,
     "metadata": {},
     "output_type": "execute_result"
    }
   ],
   "source": [
    "new_user = \"TUR_ANDROID_FEMALE_31_40\"\n",
    "agg_df[agg_df[\"customer_level_based\"] == new_user]"
   ]
  }
 ],
 "metadata": {
  "kaggle": {
   "accelerator": "none",
   "dataSources": [
    {
     "datasetId": 5437971,
     "sourceId": 9023533,
     "sourceType": "datasetVersion"
    }
   ],
   "dockerImageVersionId": 30746,
   "isGpuEnabled": false,
   "isInternetEnabled": true,
   "language": "python",
   "sourceType": "notebook"
  },
  "kernelspec": {
   "display_name": "Python 3",
   "language": "python",
   "name": "python3"
  },
  "language_info": {
   "codemirror_mode": {
    "name": "ipython",
    "version": 3
   },
   "file_extension": ".py",
   "mimetype": "text/x-python",
   "name": "python",
   "nbconvert_exporter": "python",
   "pygments_lexer": "ipython3",
   "version": "3.10.13"
  },
  "papermill": {
   "default_parameters": {},
   "duration": 5.899172,
   "end_time": "2024-07-24T08:38:55.079300",
   "environment_variables": {},
   "exception": null,
   "input_path": "__notebook__.ipynb",
   "output_path": "__notebook__.ipynb",
   "parameters": {},
   "start_time": "2024-07-24T08:38:49.180128",
   "version": "2.5.0"
  }
 },
 "nbformat": 4,
 "nbformat_minor": 5
}
